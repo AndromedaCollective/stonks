{
 "cells": [
  {
   "cell_type": "code",
   "execution_count": 87,
   "metadata": {},
   "outputs": [],
   "source": [
    "# Python script to read stock info from csv file\n",
    "\n",
    "import pandas as pd;\n",
    "import os;\n",
    "import psycopg2;"
   ]
  },
  {
   "cell_type": "code",
   "execution_count": 142,
   "metadata": {},
   "outputs": [
    {
     "name": "stdout",
     "output_type": "stream",
     "text": [
      "('users',)\n",
      "('investments',)\n",
      "('stocks',)\n",
      "('transactions',)\n",
      "('prices',)\n"
     ]
    }
   ],
   "source": [
    "# Connect to RDS\n",
    "\n",
    "# Retrieve RDS log in info from text file\n",
    "file = open('../private.txt', 'r');\n",
    "lines = file.readlines();\n",
    "\n",
    "for i,l in enumerate(lines):\n",
    "    if l[-1] == '\\n':\n",
    "        lines[i] = l[0:-1];\n",
    "        \n",
    "database_t = lines[2];\n",
    "user_t = lines[3];\n",
    "password_t = lines[4];\n",
    "host_t = lines[5];\n",
    "port_t = lines[6];\n",
    "\n",
    "# Try Connection\n",
    "try:\n",
    "    db = psycopg2.connect(\n",
    "        database= database_t,\n",
    "        user= user_t,\n",
    "        password= password_t,\n",
    "        host= host_t,\n",
    "        port= port_t\n",
    "    )\n",
    "except:\n",
    "    print(\"ERROR: Unable to connect to the RDS server.\")\n",
    "    \n",
    "\n",
    "cur = db.cursor()\n",
    "cur.execute(\"\"\"SELECT table_name FROM information_schema.tables\n",
    "       WHERE table_schema = 'public'\"\"\")\n",
    "\n",
    "for table in cur.fetchall():\n",
    "    print(table)\n"
   ]
  },
  {
   "cell_type": "code",
   "execution_count": 143,
   "metadata": {},
   "outputs": [
    {
     "name": "stdout",
     "output_type": "stream",
     "text": [
      "True\n",
      "Alcoa Corporation Common Stock \n"
     ]
    }
   ],
   "source": [
    "meta_path = '../data/stock_market_dataset/symbols_valid_meta.csv'\n",
    "meta_data = pd.read_csv(meta_path)\n",
    "\n",
    "print(meta_data[meta_data[\"Symbol\"] == \"AA\"][\"Security Name\"].shape == (1,))\n",
    "\n",
    "print(meta_data[meta_data[\"Symbol\"] == \"AA\"][\"Security Name\"].iloc[0])\n",
    "\n"
   ]
  },
  {
   "cell_type": "code",
   "execution_count": 144,
   "metadata": {},
   "outputs": [
    {
     "name": "stdout",
     "output_type": "stream",
     "text": [
      "A\n",
      "A.csv A Agilent Technologies, Inc. Common Stock\n",
      "AA\n",
      "AA.csv AA Alcoa Corporation Common Stock \n",
      "AACG\n",
      "AACG.csv AACG ATA Creativity Global - American Depositary Shares, each representing two common shares\n",
      "AAL\n",
      "AAL.csv AAL American Airlines Group, Inc. - Common Stock\n",
      "AAMC\n",
      "AAMC.csv AAMC Altisource Asset Management Corp Com\n",
      "AAME\n",
      "AAME.csv AAME Atlantic American Corporation - Common Stock\n",
      "AAN\n"
     ]
    },
    {
     "ename": "SyntaxError",
     "evalue": "syntax error at or near \"s\"\nLINE 1: ...O stocks(ticker, stock_name) VALUES('AAN', 'Aaron's, Inc. Co...\n                                                             ^\n",
     "output_type": "error",
     "traceback": [
      "\u001b[0;31m---------------------------------------------------------------------------\u001b[0m",
      "\u001b[0;31mSyntaxError\u001b[0m                               Traceback (most recent call last)",
      "\u001b[0;32m<ipython-input-144-33468171fe1f>\u001b[0m in \u001b[0;36m<module>\u001b[0;34m\u001b[0m\n\u001b[1;32m     33\u001b[0m \u001b[0;34m\u001b[0m\u001b[0m\n\u001b[1;32m     34\u001b[0m     \u001b[0msquery\u001b[0m \u001b[0;34m=\u001b[0m \u001b[0;34m\"\"\"INSERT INTO stocks(ticker, stock_name) VALUES('%s', '%s');\"\"\"\u001b[0m\u001b[0;34m%\u001b[0m\u001b[0;34m(\u001b[0m\u001b[0mticker\u001b[0m\u001b[0;34m,\u001b[0m\u001b[0mname\u001b[0m\u001b[0;34m)\u001b[0m\u001b[0;34m;\u001b[0m\u001b[0;34m\u001b[0m\u001b[0;34m\u001b[0m\u001b[0m\n\u001b[0;32m---> 35\u001b[0;31m     \u001b[0mcur\u001b[0m\u001b[0;34m.\u001b[0m\u001b[0mexecute\u001b[0m\u001b[0;34m(\u001b[0m\u001b[0msquery\u001b[0m\u001b[0;34m)\u001b[0m\u001b[0;34m;\u001b[0m\u001b[0;34m\u001b[0m\u001b[0;34m\u001b[0m\u001b[0m\n\u001b[0m\u001b[1;32m     36\u001b[0m     \u001b[0mdb\u001b[0m\u001b[0;34m.\u001b[0m\u001b[0mcommit\u001b[0m\u001b[0;34m(\u001b[0m\u001b[0;34m)\u001b[0m\u001b[0;34m;\u001b[0m\u001b[0;34m\u001b[0m\u001b[0;34m\u001b[0m\u001b[0m\n\u001b[1;32m     37\u001b[0m \u001b[0;34m\u001b[0m\u001b[0m\n",
      "\u001b[0;31mSyntaxError\u001b[0m: syntax error at or near \"s\"\nLINE 1: ...O stocks(ticker, stock_name) VALUES('AAN', 'Aaron's, Inc. Co...\n                                                             ^\n"
     ]
    }
   ],
   "source": [
    "# Read CSV files\n",
    "\n",
    "path = '../data/stock_market_dataset/stocks'\n",
    "\n",
    "files = os.listdir(path)\n",
    "\n",
    "# Skip first two files which have already been inserted into DB\n",
    "# files = files[2:]\n",
    "\n",
    "# TICKER.csv\n",
    "#     0 Date\n",
    "#     1 Open\n",
    "#     2 High\n",
    "#     3 Low\n",
    "#     4 Close\n",
    "#     5 Adj Close\n",
    "#     6 Volume\n",
    "\n",
    "error_output_file = open(\"error.txt\", \"a\")\n",
    "\n",
    "for f in files:\n",
    "    fpath = '../data/stock_market_dataset/stocks/'+ f\n",
    "    data = pd.read_csv(fpath)\n",
    "    \n",
    "    ticker = f[:-4]\n",
    "    \n",
    "    print(ticker)\n",
    "    if(meta_data[meta_data[\"Symbol\"] == ticker][\"Security Name\"].shape != (1,)):\n",
    "        error_output_file.write(f)\n",
    "        break\n",
    "    \n",
    "    name = meta_data[meta_data[\"Symbol\"] == ticker][\"Security Name\"].iloc[0]\n",
    "    \n",
    "    squery = \"\"\"INSERT INTO stocks(ticker, stock_name) VALUES('%s', '%s');\"\"\"%(ticker,name);\n",
    "    cur.execute(squery);\n",
    "    db.commit();\n",
    "    \n",
    "    args_str = ','.join(cur.mogrify(\"(%s,%s,%s,%s,%s,%s,%s,%s)\", (ticker,) + row).decode(\"utf-8\") for row in data.itertuples(index=False))\n",
    "    cur.execute(\"INSERT INTO prices (ticker, date, open, high, low, close, adj_close, volume) VALUES \" + args_str)\n",
    "    \n",
    "#     for row in data.itertuples(index=False):\n",
    "#         date = row[0]\n",
    "#         opn = str(row[1])\n",
    "#         high = str(row[2])\n",
    "#         low = str(row[3])\n",
    "#         close = str(row[4])\n",
    "#         adj = str(row[5])\n",
    "#         vol = str(row[6])\n",
    "        \n",
    "        \n",
    "#         query = \"\"\"INSERT INTO prices (ticker, date, open, high, low, close, adj_close, volume) \n",
    "#         VALUES ('%s', '%s', %s, %s, %s, %s, %s, %s);\"\"\"%(ticker, date, opn, high, low, close, adj, vol);       \n",
    "#         cur.execute(pquery);\n",
    "    db.commit();\n",
    "    \n",
    "    print(f, ticker, name)\n",
    "\n"
   ]
  },
  {
   "cell_type": "code",
   "execution_count": null,
   "metadata": {},
   "outputs": [],
   "source": []
  }
 ],
 "metadata": {
  "kernelspec": {
   "display_name": "Python 3",
   "language": "python",
   "name": "python3"
  },
  "language_info": {
   "codemirror_mode": {
    "name": "ipython",
    "version": 3
   },
   "file_extension": ".py",
   "mimetype": "text/x-python",
   "name": "python",
   "nbconvert_exporter": "python",
   "pygments_lexer": "ipython3",
   "version": "3.8.10"
  }
 },
 "nbformat": 4,
 "nbformat_minor": 4
}
