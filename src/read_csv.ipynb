{
 "cells": [
  {
   "cell_type": "code",
   "execution_count": 1,
   "metadata": {},
   "outputs": [],
   "source": [
    "# Python script to read stock info from csv file\n",
    "\n",
    "import pandas as pd;\n",
    "import os;\n",
    "import psycopg2;"
   ]
  },
  {
   "cell_type": "code",
   "execution_count": 54,
   "metadata": {},
   "outputs": [
    {
     "name": "stdout",
     "output_type": "stream",
     "text": [
      "('users',)\n",
      "('investments',)\n",
      "('stocks',)\n",
      "('transactions',)\n",
      "('prices',)\n"
     ]
    }
   ],
   "source": [
    "# Connect to RDS\n",
    "\n",
    "# Retrieve RDS log in info from text file\n",
    "file = open('../private.txt', 'r');\n",
    "lines = file.readlines();\n",
    "\n",
    "for i,l in enumerate(lines):\n",
    "    if l[-1] == '\\n':\n",
    "        lines[i] = l[0:-1];\n",
    "        \n",
    "database_t = lines[2];\n",
    "user_t = lines[3];\n",
    "password_t = lines[4];\n",
    "host_t = lines[5];\n",
    "port_t = lines[6];\n",
    "\n",
    "# Try Connection\n",
    "try:\n",
    "    db = psycopg2.connect(\n",
    "        database= database_t,\n",
    "        user= user_t,\n",
    "        password= password_t,\n",
    "        host= host_t,\n",
    "        port= port_t\n",
    "    )\n",
    "except:\n",
    "    print(\"ERROR: Unable to connect to the RDS server.\")\n",
    "\n",
    "\n",
    "cur.execute(\"\"\"SELECT table_name FROM information_schema.tables\n",
    "       WHERE table_schema = 'public'\"\"\")\n",
    "\n",
    "for table in cur.fetchall():\n",
    "    print(table)\n"
   ]
  },
  {
   "cell_type": "code",
   "execution_count": null,
   "metadata": {},
   "outputs": [],
   "source": [
    "# Read CSV files\n",
    "\n",
    "path = '../data/stock_market_dataset/stocks'\n",
    "\n",
    "files = os.listdir(path)\n",
    "\n",
    "for f in files:\n",
    "    fpath = '../data/stock_market_dataset/stocks/'+ f\n",
    "    data = pd.read_csv(fpath)\n",
    "    print(f, data.shape)\n",
    "    \n",
    "# Working"
   ]
  },
  {
   "cell_type": "code",
   "execution_count": null,
   "metadata": {},
   "outputs": [],
   "source": []
  }
 ],
 "metadata": {
  "kernelspec": {
   "display_name": "Python 3",
   "language": "python",
   "name": "python3"
  },
  "language_info": {
   "codemirror_mode": {
    "name": "ipython",
    "version": 3
   },
   "file_extension": ".py",
   "mimetype": "text/x-python",
   "name": "python",
   "nbconvert_exporter": "python",
   "pygments_lexer": "ipython3",
   "version": "3.6.5"
  }
 },
 "nbformat": 4,
 "nbformat_minor": 2
}
