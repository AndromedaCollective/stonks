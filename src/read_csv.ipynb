{
 "cells": [
  {
   "cell_type": "code",
   "execution_count": 16,
   "metadata": {},
   "outputs": [],
   "source": [
    "# Python script to read stock info from csv file\n",
    "\n",
    "import pandas as pd;\n",
    "import os;\n",
    "import psycopg2;"
   ]
  },
  {
   "cell_type": "code",
   "execution_count": 51,
   "metadata": {},
   "outputs": [
    {
     "ename": "ProgrammingError",
     "evalue": "relation \"stonks\" does not exist\nLINE 1:  SELECT * from stonks \n                       ^\n",
     "output_type": "error",
     "traceback": [
      "\u001b[0;31m-------------------------------------------------------------------\u001b[0m",
      "\u001b[0;31mProgrammingError\u001b[0m                  Traceback (most recent call last)",
      "\u001b[0;32m<ipython-input-51-8d33c235daa0>\u001b[0m in \u001b[0;36m<module>\u001b[0;34m()\u001b[0m\n\u001b[1;32m     28\u001b[0m \u001b[0mcur\u001b[0m \u001b[0;34m=\u001b[0m \u001b[0mengine\u001b[0m\u001b[0;34m.\u001b[0m\u001b[0mcursor\u001b[0m\u001b[0;34m(\u001b[0m\u001b[0;34m)\u001b[0m\u001b[0;34m\u001b[0m\u001b[0m\n\u001b[1;32m     29\u001b[0m \u001b[0;31m#cur.execute(\"CREATE TABLE Practice (Number INT);\");\u001b[0m\u001b[0;34m\u001b[0m\u001b[0;34m\u001b[0m\u001b[0m\n\u001b[0;32m---> 30\u001b[0;31m \u001b[0mcur\u001b[0m\u001b[0;34m.\u001b[0m\u001b[0mexecute\u001b[0m\u001b[0;34m(\u001b[0m\u001b[0;34m\"\"\" SELECT * from stonks \"\"\"\u001b[0m\u001b[0;34m)\u001b[0m\u001b[0;34m;\u001b[0m\u001b[0;34m\u001b[0m\u001b[0m\n\u001b[0m\u001b[1;32m     31\u001b[0m \u001b[0mprint\u001b[0m\u001b[0;34m(\u001b[0m\u001b[0mcur\u001b[0m\u001b[0;34m.\u001b[0m\u001b[0mfetchall\u001b[0m\u001b[0;34m(\u001b[0m\u001b[0;34m)\u001b[0m\u001b[0;34m)\u001b[0m\u001b[0;34m;\u001b[0m\u001b[0;34m\u001b[0m\u001b[0m\n",
      "\u001b[0;31mProgrammingError\u001b[0m: relation \"stonks\" does not exist\nLINE 1:  SELECT * from stonks \n                       ^\n"
     ]
    }
   ],
   "source": [
    "# Retrieve RDS log in info from text file\n",
    "\n",
    "file = open('../private.txt', 'r');\n",
    "lines = file.readlines();\n",
    "\n",
    "for i,l in enumerate(lines):\n",
    "    if l[-1] == '\\n':\n",
    "        lines[i] = l[0:-1];\n",
    "        \n",
    "database_t = lines[2];\n",
    "user_t = lines[3];\n",
    "password_t = lines[4];\n",
    "host_t = lines[5];\n",
    "port_t = lines[6];\n",
    "\n",
    "# Connect to RDS\n",
    "try:\n",
    "    engine = psycopg2.connect(\n",
    "        database= database_t,\n",
    "        user= user_t,\n",
    "        password= password_t,\n",
    "        host= host_t,\n",
    "        port= port_t\n",
    "    )\n",
    "except:\n",
    "    print(\"ERROR: Unable to connect to the RDS server.\")\n",
    "    \n",
    "cur = engine.cursor()\n",
    "#cur.execute(\"CREATE TABLE Practice (Number INT);\");\n",
    "cur.execute(\"\"\" SELECT * from stonks \"\"\");\n",
    "print(cur.fetchall());\n"
   ]
  },
  {
   "cell_type": "code",
   "execution_count": null,
   "metadata": {},
   "outputs": [],
   "source": [
    "# Read CSV files\n",
    "\n",
    "path = '../data/stock_market_dataset/stocks'\n",
    "\n",
    "files = os.listdir(path)\n",
    "\n",
    "for f in files:\n",
    "    fpath = '../data/stock_market_dataset/stocks/'+ f\n",
    "    data = pd.read_csv(fpath)\n",
    "    print(f, data.shape)\n",
    "    \n",
    "# Working"
   ]
  },
  {
   "cell_type": "code",
   "execution_count": null,
   "metadata": {},
   "outputs": [],
   "source": []
  }
 ],
 "metadata": {
  "kernelspec": {
   "display_name": "Python 3",
   "language": "python",
   "name": "python3"
  },
  "language_info": {
   "codemirror_mode": {
    "name": "ipython",
    "version": 3
   },
   "file_extension": ".py",
   "mimetype": "text/x-python",
   "name": "python",
   "nbconvert_exporter": "python",
   "pygments_lexer": "ipython3",
   "version": "3.6.5"
  }
 },
 "nbformat": 4,
 "nbformat_minor": 2
}
