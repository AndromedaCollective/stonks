{
 "cells": [
  {
   "cell_type": "code",
   "execution_count": 1,
   "metadata": {},
   "outputs": [],
   "source": [
    "# Scrape stock data from https://www.marketwatch.com/investing/stock/{TICKER}\n",
    "\n",
    "from time import sleep\n",
    "from time import time\n",
    "from random import randint\n",
    "from warnings import warn\n",
    "from IPython.core.display import clear_output\n",
    "\n",
    "import pandas as pd\n",
    "\n",
    "from requests import get\n",
    "from bs4 import BeautifulSoup"
   ]
  },
  {
   "cell_type": "code",
   "execution_count": null,
   "metadata": {},
   "outputs": [],
   "source": [
    "tickers = [];\n",
    "#fill this array with tickers\n",
    "\n",
    "path = '../data/stock_market_dataset/stocks'\n",
    "\n",
    "files = os.listdir(path)\n",
    "\n",
    "for t in tickers:\n",
    "    response = get('https://www.marketwatch.com/investing/stock/' + t)"
   ]
  }
 ],
 "metadata": {
  "kernelspec": {
   "display_name": "Python 3",
   "language": "python",
   "name": "python3"
  },
  "language_info": {
   "codemirror_mode": {
    "name": "ipython",
    "version": 3
   },
   "file_extension": ".py",
   "mimetype": "text/x-python",
   "name": "python",
   "nbconvert_exporter": "python",
   "pygments_lexer": "ipython3",
   "version": "3.6.5"
  }
 },
 "nbformat": 4,
 "nbformat_minor": 2
}
